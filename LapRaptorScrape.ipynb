{
 "cells": [
  {
   "cell_type": "code",
   "execution_count": 3,
   "metadata": {},
   "outputs": [],
   "source": [
    "from selenium import webdriver\n",
    "from selenium.webdriver.common.keys import Keys\n",
    "from selenium.webdriver.support.ui import WebDriverWait\n",
    "from selenium.webdriver.support import expected_conditions as EC\n",
    "from selenium.webdriver.common.by import By\n",
    "from selenium.webdriver.firefox.options import Options\n",
    "webdriver.Chrome\n",
    "import json\n",
    "import time\n",
    "\n"
   ]
  },
  {
   "cell_type": "code",
   "execution_count": 4,
   "metadata": {},
   "outputs": [],
   "source": [
    "def scrape_race(driver):\n",
    "    race_winner = driver.find_element(By.XPATH, f'/html/body/div[2]/div/div/table/tbody/tr[1]/td[1]/a/span').text\n",
    "    return race_winner"
   ]
  },
  {
   "cell_type": "code",
   "execution_count": 5,
   "metadata": {},
   "outputs": [],
   "source": [
    "def scrape_race_list(driver, race_number):\n",
    "    wait = WebDriverWait(driver, 10)  # Adjust the timeout to your needs\n",
    "\n",
    "    race_date_element = wait.until(EC.visibility_of_element_located((By.XPATH, f'/html/body/div[2]/section/table/tbody/tr[{race_number}]/td[1]')))\n",
    "    race_date = race_date_element.text\n",
    "\n",
    "    race_series_element = wait.until(EC.visibility_of_element_located((By.XPATH, f'/html/body/div[2]/section/table/tbody/tr[{race_number}]/td[2]')))\n",
    "    race_series = race_series_element.text\n",
    "\n",
    "    race_location_element = wait.until(EC.visibility_of_element_located((By.XPATH, f'/html/body/div[2]/section/table/tbody/tr[{race_number}]/td[3]')))\n",
    "    race_location = race_location_element.text\n",
    "\n",
    "    race_html_element = wait.until(EC.visibility_of_element_located((By.XPATH, f'/html/body/div[2]/section/table/tbody/tr[{race_number}]/td[3]/a')))\n",
    "    race_html = race_html_element.get_attribute('href')\n",
    "\n",
    "\n",
    "    print(f'{race_number}: {race_date}, {race_series}, {race_location}, {race_html}')#, {x.race_winner}')\n",
    "    try:\n",
    "        next_race_element = wait.until(EC.visibility_of_element_located((By.XPATH, f'/html/body/div[2]/section/table/tbody/tr[{race_number}]/td[3]/a')))\n",
    "        next_race_element.click()\n",
    "    except:\n",
    "        print(driver.find_element(By.CSS_SELECTOR, f'.table > tbody:nth-child(2) > tr:nth-child({race_number}) > td:nth-child(3) > a:nth-child(1)::text'))\n",
    "        print(f'failed on scraping next race element on race: {race_number}')\n",
    "    #race_winner_element = wait.until(EC.visibility_of_element_located((By.XPATH, f'/html/body/div[2]/div/div/table/tbody/tr[1]/td[1]/a/span')))\n",
    "                                                                                    #/html/body/div[2]/div/div/table/tbody/tr[1]/td[1]/a/span\n",
    "    #                                                                                /html/body/div[2]/div/div/table/tbody/tr[1]/td[1]/a/span\n",
    "    #print(f'Race Winner: {race_winner_element.text}')\n",
    "    time.sleep(5)\n",
    "    driver.back()\n",
    "    #x = scrape_race(driver)\n"
   ]
  },
  {
   "cell_type": "code",
   "execution_count": 6,
   "metadata": {},
   "outputs": [
    {
     "name": "stderr",
     "output_type": "stream",
     "text": [
      "C:\\Users\\dc116\\AppData\\Local\\Temp\\ipykernel_26792\\204456127.py:2: DeprecationWarning: headless property is deprecated, instead use add_argument('-headless')\n",
      "  options.headless = True\n"
     ]
    },
    {
     "name": "stdout",
     "output_type": "stream",
     "text": [
      "10: 03/01/2024, Trucks, Victoria's Voice Foundation 200 presented by Westgate Resorts\n",
      "Las Vegas, https://www.lapraptor.com/races/5463/\n",
      "failed on scraping race: 10, error: Message: Given css selector expression \".table > tbody:nth-child(2) > tr:nth-child(10) > td:nth-child(3) > a:nth-child(1)::text\" is invalid: InvalidSelectorError: Document.querySelector: '.table > tbody:nth-child(2) > tr:nth-child(10) > td:nth-child(3) > a:nth-child(1)::text' is not a valid selector: \".table > tbody:nth-child(2) > tr:nth-child(10) > td:nth-child(3) > a:nth-child(1)::text\"\n",
      "Stacktrace:\n",
      "RemoteError@chrome://remote/content/shared/RemoteError.sys.mjs:8:8\n",
      "WebDriverError@chrome://remote/content/shared/webdriver/Errors.sys.mjs:193:5\n",
      "InvalidSelectorError@chrome://remote/content/shared/webdriver/Errors.sys.mjs:432:5\n",
      "find_@chrome://remote/content/shared/DOM.sys.mjs:170:11\n",
      "\n",
      "11: 02/25/2024, Cup, Ambetter Health 400\n",
      "Atlanta, https://www.lapraptor.com/races/5389/\n",
      "failed on scraping race: 11, error: Message: Given css selector expression \".table > tbody:nth-child(2) > tr:nth-child(11) > td:nth-child(3) > a:nth-child(1)::text\" is invalid: InvalidSelectorError: Document.querySelector: '.table > tbody:nth-child(2) > tr:nth-child(11) > td:nth-child(3) > a:nth-child(1)::text' is not a valid selector: \".table > tbody:nth-child(2) > tr:nth-child(11) > td:nth-child(3) > a:nth-child(1)::text\"\n",
      "Stacktrace:\n",
      "RemoteError@chrome://remote/content/shared/RemoteError.sys.mjs:8:8\n",
      "WebDriverError@chrome://remote/content/shared/webdriver/Errors.sys.mjs:193:5\n",
      "InvalidSelectorError@chrome://remote/content/shared/webdriver/Errors.sys.mjs:432:5\n",
      "find_@chrome://remote/content/shared/DOM.sys.mjs:170:11\n",
      "\n",
      "12: 02/24/2024, Xfinity, RAPTOR King of Tough 250\n",
      "Atlanta, https://www.lapraptor.com/races/5433/\n",
      "failed on scraping race: 12, error: Message: Given css selector expression \".table > tbody:nth-child(2) > tr:nth-child(12) > td:nth-child(3) > a:nth-child(1)::text\" is invalid: InvalidSelectorError: Document.querySelector: '.table > tbody:nth-child(2) > tr:nth-child(12) > td:nth-child(3) > a:nth-child(1)::text' is not a valid selector: \".table > tbody:nth-child(2) > tr:nth-child(12) > td:nth-child(3) > a:nth-child(1)::text\"\n",
      "Stacktrace:\n",
      "RemoteError@chrome://remote/content/shared/RemoteError.sys.mjs:8:8\n",
      "WebDriverError@chrome://remote/content/shared/webdriver/Errors.sys.mjs:193:5\n",
      "InvalidSelectorError@chrome://remote/content/shared/webdriver/Errors.sys.mjs:432:5\n",
      "find_@chrome://remote/content/shared/DOM.sys.mjs:170:11\n",
      "\n"
     ]
    }
   ],
   "source": [
    "options = Options()\n",
    "options.headless = True\n",
    "driver = webdriver.Firefox(options=options)\n",
    "driver.get(\"https://www.lapraptor.com\")\n",
    "#time.sleep(5)\n",
    "driver.find_element(By.XPATH, f'//*[@id=\"list-dropdown\"]').click()\n",
    "driver.find_element(By.XPATH, f'/html/body/div[1]/nav/div/div/ul[1]/li[5]/ul/li[1]/a').click()\n",
    "total_race_number = len(driver.find_elements(By.XPATH, f'/html/body/div[2]/section/table/tbody/tr'))\n",
    "for race_number in range(10, 13):#total_race_number+1):\n",
    "    try:\n",
    "        scrape_race_list(driver, race_number)\n",
    "    except Exception as e: \n",
    "        print(f'failed on scraping race: {race_number}, error: {e}')\n",
    "    #print(f'{race_number}: {race_date}, {race_series}, {race_location}')\n",
    "\n",
    "\n",
    "time.sleep(5)\n",
    "driver.close()"
   ]
  },
  {
   "cell_type": "code",
   "execution_count": null,
   "metadata": {},
   "outputs": [],
   "source": []
  },
  {
   "cell_type": "code",
   "execution_count": null,
   "metadata": {},
   "outputs": [],
   "source": []
  },
  {
   "cell_type": "code",
   "execution_count": null,
   "metadata": {},
   "outputs": [],
   "source": []
  }
 ],
 "metadata": {
  "kernelspec": {
   "display_name": "prizepicks-prop-scraper",
   "language": "python",
   "name": "python3"
  },
  "language_info": {
   "codemirror_mode": {
    "name": "ipython",
    "version": 3
   },
   "file_extension": ".py",
   "mimetype": "text/x-python",
   "name": "python",
   "nbconvert_exporter": "python",
   "pygments_lexer": "ipython3",
   "version": "3.10.13"
  }
 },
 "nbformat": 4,
 "nbformat_minor": 2
}
